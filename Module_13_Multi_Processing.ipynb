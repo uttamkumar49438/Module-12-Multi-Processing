{
  "nbformat": 4,
  "nbformat_minor": 0,
  "metadata": {
    "colab": {
      "provenance": []
    },
    "kernelspec": {
      "name": "python3",
      "display_name": "Python 3"
    },
    "language_info": {
      "name": "python"
    }
  },
  "cells": [
    {
      "cell_type": "markdown",
      "source": [
        "Q1. What is multiprocessing in python? Why is it useful?"
      ],
      "metadata": {
        "id": "DKiSCmv2Oc4p"
      }
    },
    {
      "cell_type": "markdown",
      "source": [
        "Multiprocessing in Python refers to the ability of a program to utilize multiple processes, allowing for concurrent execution of tasks on multiple CPU cores.\n",
        "\n",
        "It is useful for:\n",
        "- Parallelism\n",
        "- Resource Isolation\n",
        "- Fault Isolation"
      ],
      "metadata": {
        "id": "JPk0I2r3O5Hm"
      }
    },
    {
      "cell_type": "markdown",
      "source": [
        "Q2. What are the differences between multiprocessing and multithreading?"
      ],
      "metadata": {
        "id": "6jvY_SOyOkl5"
      }
    },
    {
      "cell_type": "markdown",
      "source": [
        "multiprocessing and multithreading offer different approaches to achieving concurrency and parallelism in Python, each with its own advantages and trade-offs. Multiprocessing is suitable for CPU-bound tasks and true parallel execution across multiple CPU cores, while multithreading is more appropriate for I/O-bound tasks and concurrent execution within a single process"
      ],
      "metadata": {
        "id": "hrFh9UxPPO-2"
      }
    },
    {
      "cell_type": "markdown",
      "source": [
        "Q3. Write a python code to create a process using the multiprocessing module."
      ],
      "metadata": {
        "id": "TWnUS90DOok2"
      }
    },
    {
      "cell_type": "code",
      "source": [
        "import multiprocessing\n",
        "import os\n",
        "\n",
        "def worker():\n",
        "    \"\"\"Function to be executed by the child process.\"\"\"\n",
        "    process_id = os.getpid()\n",
        "    print(f\"Child process ID: {process_id}\")\n",
        "\n",
        "if __name__ == \"__main__\":\n",
        "    # Create a Process object\n",
        "    child_process = multiprocessing.Process(target=worker)\n",
        "\n",
        "    # Start the child process\n",
        "    child_process.start()\n",
        "\n",
        "    # Wait for the child process to finish\n",
        "    child_process.join()\n",
        "\n",
        "    # Print the parent process ID\n",
        "    parent_process_id = os.getpid()\n",
        "    print(f\"Parent process ID: {parent_process_id}\")"
      ],
      "metadata": {
        "id": "I_wBoYzLWCG7"
      },
      "execution_count": null,
      "outputs": []
    },
    {
      "cell_type": "markdown",
      "source": [
        "Q4. What is a multiprocessing pool in python? Why is it used?"
      ],
      "metadata": {
        "id": "3dGMgJ3wOwGy"
      }
    },
    {
      "cell_type": "markdown",
      "source": [
        "A multiprocessing pool in Python refers to a collection of worker processes that can be used to execute tasks concurrently across multiple CPU cores.\n",
        "\n",
        "multiprocessing pools in Python are used to achieve parallelism, improve performance, enhance fault tolerance, and scale applications to handle increased workloads.\n"
      ],
      "metadata": {
        "id": "UhMzu5_TSIrl"
      }
    },
    {
      "cell_type": "markdown",
      "source": [
        "Q5. How can we create a pool of worker processes in python using the multiprocessing module?"
      ],
      "metadata": {
        "id": "7uL6uzx1OxXj"
      }
    },
    {
      "cell_type": "markdown",
      "source": [
        "To create a pool of worker processes in Python using the multiprocessing module, you can follow these steps:\n",
        "\n",
        "-Import the multiprocessing module.\n",
        "-Create a Pool object by instantiating the Pool class with the desired number of worker processes.\n",
        "-Submit tasks to the pool for execution using one of the available methods (apply(), apply_async(), map(), map_async()).\n",
        "-Retrieve results from the pool if necessary.\n",
        "-Close the pool to prevent further tasks from being submitted.\n",
        "-Optionally, call the join() method on the pool to wait for all worker processes to complete their tasks before continuing execution."
      ],
      "metadata": {
        "id": "9akvtSKiSQv7"
      }
    },
    {
      "cell_type": "markdown",
      "source": [
        "Q6. Write a python program to create 4 processes, each process should print a different number using the\n",
        "multiprocessing module in python."
      ],
      "metadata": {
        "id": "JbY9wdsLO0x7"
      }
    },
    {
      "cell_type": "code",
      "source": [
        "import multiprocessing\n",
        "\n",
        "def print_number(number):\n",
        "    \"\"\"Function to print a number.\"\"\"\n",
        "    process_id = multiprocessing.current_process().pid\n",
        "    print(f\"Process {process_id} prints: {number}\")\n",
        "\n",
        "if __name__ == \"__main__\":\n",
        "    # Define the numbers to be printed by each process\n",
        "    numbers = [1, 2, 3, 4]\n",
        "\n",
        "    # Create a list to hold Process objects\n",
        "    processes = []\n",
        "\n",
        "    # Create four processes, each printing a different number\n",
        "    for number in numbers:\n",
        "        process = multiprocessing.Process(target=print_number, args=(number,))\n",
        "        processes.append(process)\n",
        "\n",
        "    # Start all processes\n",
        "    for process in processes:\n",
        "        process.start()\n",
        "\n",
        "    # Wait for all processes to complete\n",
        "    for process in processes:\n",
        "        process.join()"
      ],
      "metadata": {
        "id": "Ng2-NmiLSvyX"
      },
      "execution_count": null,
      "outputs": []
    }
  ]
}